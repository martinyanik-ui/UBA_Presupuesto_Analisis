{
 "cells": [
  {
   "cell_type": "markdown",
   "id": "4c1890b0",
   "metadata": {},
   "source": [
    "# Análisis del Presupuesto UBA\n",
    "Este notebook presenta un análisis exploratorio de los datos del presupuesto de la UBA, considerando valores nominales y ajustados por IPC.\n",
    "\n",
    "Además, todos los gráficos se guardarán automáticamente en formato PNG en la carpeta de trabajo."
   ]
  },
  {
   "cell_type": "code",
   "execution_count": null,
   "id": "feecce79",
   "metadata": {},
   "outputs": [],
   "source": [
    "\n",
    "import pandas as pd\n",
    "import matplotlib.pyplot as plt\n",
    "\n",
    "# Configuración de gráficos\n",
    "plt.style.use(\"seaborn-v0_8\")\n"
   ]
  },
  {
   "cell_type": "code",
   "execution_count": null,
   "id": "2f7fd630",
   "metadata": {},
   "outputs": [],
   "source": [
    "\n",
    "# Cargar archivo Excel (ajustar ruta según tu entorno)\n",
    "file_path = \"presupuesto_UBA.xlsx\"\n",
    "\n",
    "# Hojas\n",
    "datos_df = pd.read_excel(file_path, sheet_name=\"Datos\")\n",
    "ipc_df = pd.read_excel(file_path, sheet_name=\"IPC\")\n",
    "resumen_df = pd.read_excel(file_path, sheet_name=\"Resumen por año\")\n",
    "\n",
    "datos_df.head()\n"
   ]
  },
  {
   "cell_type": "markdown",
   "id": "63ab6d82",
   "metadata": {},
   "source": [
    "## Evolución del presupuesto total (Nominal vs Ajustado)"
   ]
  },
  {
   "cell_type": "code",
   "execution_count": null,
   "id": "290dee35",
   "metadata": {},
   "outputs": [],
   "source": [
    "\n",
    "plt.figure(figsize=(10,6))\n",
    "plt.plot(resumen_df[\"Año\"], resumen_df[\"Monto Nominal ($)\"], marker=\"o\", label=\"Nominal\")\n",
    "plt.plot(resumen_df[\"Año\"], resumen_df[\"Monto Ajustado ($)\"], marker=\"o\", label=\"Ajustado por IPC\")\n",
    "plt.title(\"Evolución del Presupuesto UBA (2015 en adelante)\")\n",
    "plt.xlabel(\"Año\")\n",
    "plt.ylabel(\"Monto ($)\")\n",
    "plt.legend()\n",
    "plt.grid(True)\n",
    "plt.savefig(\"evolucion_presupuesto.png\", dpi=300)\n",
    "plt.show()\n"
   ]
  },
  {
   "cell_type": "markdown",
   "id": "a26c0bd6",
   "metadata": {},
   "source": [
    "## Distribución del presupuesto por partidas en el último año"
   ]
  },
  {
   "cell_type": "code",
   "execution_count": null,
   "id": "b7d5cf36",
   "metadata": {},
   "outputs": [],
   "source": [
    "\n",
    "ultimo_anio = datos_df[\"Año\"].max()\n",
    "partidas_ultimo = datos_df[datos_df[\"Año\"] == ultimo_anio]\n",
    "\n",
    "plt.figure(figsize=(8,6))\n",
    "plt.pie(partidas_ultimo[\"Monto Ajustado ($)\"], labels=partidas_ultimo[\"Partida\"], autopct=\"%1.1f%%\")\n",
    "plt.title(f\"Distribución del presupuesto por partidas ({ultimo_anio}, ajustado)\")\n",
    "plt.savefig(\"distribucion_partidas.png\", dpi=300)\n",
    "plt.show()\n"
   ]
  },
  {
   "cell_type": "markdown",
   "id": "95c9780f",
   "metadata": {},
   "source": [
    "## Evolución real del presupuesto por partida"
   ]
  },
  {
   "cell_type": "code",
   "execution_count": null,
   "id": "6c29e312",
   "metadata": {},
   "outputs": [],
   "source": [
    "\n",
    "plt.figure(figsize=(10,6))\n",
    "for partida in datos_df[\"Partida\"].unique():\n",
    "    subset = datos_df[datos_df[\"Partida\"] == partida]\n",
    "    plt.plot(subset[\"Año\"], subset[\"Monto Ajustado ($)\"], marker=\"o\", label=partida)\n",
    "\n",
    "plt.title(\"Evolución real del presupuesto por partida\")\n",
    "plt.xlabel(\"Año\")\n",
    "plt.ylabel(\"Monto ajustado ($)\")\n",
    "plt.legend()\n",
    "plt.grid(True)\n",
    "plt.savefig(\"evolucion_partidas.png\", dpi=300)\n",
    "plt.show()\n"
   ]
  },
  {
   "cell_type": "markdown",
   "id": "7a1be7c8",
   "metadata": {},
   "source": [
    "## Evolución del IPC acumulado (Base 2015=1)"
   ]
  },
  {
   "cell_type": "code",
   "execution_count": null,
   "id": "cc5f9f7f",
   "metadata": {},
   "outputs": [],
   "source": [
    "\n",
    "plt.figure(figsize=(10,6))\n",
    "plt.plot(ipc_df[\"Año\"], ipc_df[\"IPC Acumulado (2015=1)\"], marker=\"o\", color=\"red\")\n",
    "plt.title(\"Evolución del IPC acumulado (Base 2015=1)\")\n",
    "plt.xlabel(\"Año\")\n",
    "plt.ylabel(\"IPC acumulado\")\n",
    "plt.grid(True)\n",
    "plt.savefig(\"ipc_acumulado.png\", dpi=300)\n",
    "plt.show()\n"
   ]
  },
  {
   "cell_type": "markdown",
   "id": "adb57b40",
   "metadata": {},
   "source": [
    "## Descargar gráficos en Google Colab"
   ]
  },
  {
   "cell_type": "code",
   "execution_count": null,
   "id": "1c2212ea",
   "metadata": {},
   "outputs": [],
   "source": [
    "\n",
    "from google.colab import files\n",
    "\n",
    "# Descargar todos los gráficos generados\n",
    "files.download(\"evolucion_presupuesto.png\")\n",
    "files.download(\"distribucion_partidas.png\")\n",
    "files.download(\"evolucion_partidas.png\")\n",
    "files.download(\"ipc_acumulado.png\")\n"
   ]
  }
 ],
 "metadata": {},
 "nbformat": 4,
 "nbformat_minor": 5
}
